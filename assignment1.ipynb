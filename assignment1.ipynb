{
 "cells": [
  {
   "cell_type": "code",
   "execution_count": 2,
   "id": "e0addfd6-1584-4f3b-b3db-0c4968973c4d",
   "metadata": {},
   "outputs": [
    {
     "name": "stdin",
     "output_type": "stream",
     "text": [
      "enter your first name  vaibhav\n",
      "enter your last name chauhan\n"
     ]
    },
    {
     "name": "stdout",
     "output_type": "stream",
     "text": [
      "vaibhav chauhan\n",
      "in reverse order is nahuahc vahbiav\n",
      "vaibhav chauhan\n",
      "0\n"
     ]
    }
   ],
   "source": [
    "first_name=input(\"enter your first name \")\n",
    "last_name=input(\"enter your last name\")\n",
    "full_name=first_name+\" \"+last_name\n",
    "print(full_name)\n",
    "print(\"in reverse order is\",full_name[::-1])\n",
    "print(full_name.strip())                         #delete any blank spaces in front of string or at the end of string\n",
    "print(full_name.find(\"vaibhav\"))                   #finds for substring"
   ]
  },
  {
   "cell_type": "code",
   "execution_count": 3,
   "id": "ad8e1e70-cc06-445e-90b6-963b668b2a50",
   "metadata": {},
   "outputs": [
    {
     "name": "stdin",
     "output_type": "stream",
     "text": [
      "enter a number 777\n"
     ]
    },
    {
     "name": "stdout",
     "output_type": "stream",
     "text": [
      "777\n",
      "777.0\n",
      "(777+0j)\n"
     ]
    }
   ],
   "source": [
    "num=input(\"enter a number\")\n",
    "print(int(num))         #no decimal place\n",
    "print(float(num))       #decimal places\n",
    "print(complex(num))     #real +_ imaginery number"
   ]
  },
  {
   "cell_type": "code",
   "execution_count": 4,
   "id": "ff67650a-d4a4-44ad-b1be-92eff672f839",
   "metadata": {},
   "outputs": [
    {
     "name": "stdin",
     "output_type": "stream",
     "text": [
      "enter the length of rectangle 7\n",
      "enter the breadth of rectangle 6\n"
     ]
    },
    {
     "name": "stdout",
     "output_type": "stream",
     "text": [
      "42\n",
      "area of ractangle is 42.00 \n"
     ]
    }
   ],
   "source": [
    "length=int(input(\"enter the length of rectangle\"))    #asking for length\n",
    "breadth=int(input(\"enter the breadth of rectangle\"))  #asking for breadth\n",
    "area=length*breadth                                   #calculating area\n",
    "print(area)\n",
    "print(\"area of ractangle is {:.2f} \".format(area))\n"
   ]
  },
  {
   "cell_type": "code",
   "execution_count": 5,
   "id": "2bf847ee-4c03-4a30-8aba-849b6a0fbc20",
   "metadata": {},
   "outputs": [
    {
     "name": "stdin",
     "output_type": "stream",
     "text": [
      "enter the first number 3\n",
      "enter the 2nd number 5\n",
      "enter the 3rd number 7\n"
     ]
    },
    {
     "name": "stdout",
     "output_type": "stream",
     "text": [
      "5.000000 \n",
      "The average of three number is: 5.000000\n"
     ]
    }
   ],
   "source": [
    "num1=int(input(\"enter the first number\"))\n",
    "num2=int(input(\"enter the 2nd number\"))\n",
    "num3=int(input(\"enter the 3rd number\"))\n",
    "average=float((num1+num2+num3)/3)                      #calculating aerage\n",
    "print(\"%f \"%average)\n",
    "print(\"The average of three number is: %f\"%average)"
   ]
  },
  {
   "cell_type": "code",
   "execution_count": 6,
   "id": "b94cc58b-a223-49a3-a9f6-df1738724703",
   "metadata": {},
   "outputs": [
    {
     "name": "stdin",
     "output_type": "stream",
     "text": [
      "enter a number 8\n"
     ]
    },
    {
     "name": "stdout",
     "output_type": "stream",
     "text": [
      "number is positive\n"
     ]
    }
   ],
   "source": [
    "num=int(input(\"enter a number\"))\n",
    "if (num>0):                                                #comparing the num\n",
    "    print(\"number is positive\")\n",
    "elif(num<0):\n",
    "    print(\"number is negative\")\n",
    "else:\n",
    "    print(\"number is 0\")\n",
    "          "
   ]
  },
  {
   "cell_type": "code",
   "execution_count": 8,
   "id": "7708e7d2-47ee-42d5-a5b1-67d2cf53ce26",
   "metadata": {},
   "outputs": [
    {
     "name": "stdin",
     "output_type": "stream",
     "text": [
      "enter a number and enter 'exit' if you want to exit 546\n"
     ]
    },
    {
     "name": "stdout",
     "output_type": "stream",
     "text": [
      "546 is your entered number\n"
     ]
    },
    {
     "name": "stdin",
     "output_type": "stream",
     "text": [
      "enter a number and enter 'exit' if you want to exit exit\n"
     ]
    }
   ],
   "source": [
    "while(1):\n",
    "    choice=input(\"enter a number and enter 'exit' if you want to exit\")\n",
    "    if(choice=='exit'):                              #exiting the loop\n",
    "        break\n",
    "    else:\n",
    "        print(f'{int(choice)} is your entered number')\n",
    "        continue\n",
    "    "
   ]
  },
  {
   "cell_type": "code",
   "execution_count": 9,
   "id": "7d3ff511-2f56-410f-921d-57e99557e9a2",
   "metadata": {},
   "outputs": [
    {
     "name": "stdin",
     "output_type": "stream",
     "text": [
      "enter 1st numbers 7\n",
      "enter 2nd number 5\n"
     ]
    },
    {
     "name": "stdout",
     "output_type": "stream",
     "text": [
      "both are odd\n"
     ]
    }
   ],
   "source": [
    "number1=int(input(\"enter 1st numbers\"))\n",
    "number2=int(input(\"enter 2nd number\"))\n",
    "if (number1==number2):\n",
    "    print(\"both numbers are equal\")\n",
    "elif(number1%2==0 and number2%2==0):\n",
    "    print(\"both are even\")\n",
    "elif(number1%2!=0 and number2%2!=0):\n",
    "    print(\"both are odd\")\n",
    "else:\n",
    "    print(\"none of them\")"
   ]
  },
  {
   "cell_type": "code",
   "execution_count": null,
   "id": "61fd5b00-a4a6-4deb-8236-032d1945da87",
   "metadata": {},
   "outputs": [],
   "source": [
    "number = int(input(\"Enter a number: \"))\n",
    "val = number\n",
    "binary = \"\"\n",
    "\n",
    "\n",
    "while number > 0:\n",
    "    binary = str(number % 2) + binary\n",
    "    number = number // 2\n",
    "\n",
    "\n",
    "decimal = int(binary, 2)\n",
    "\n",
    "\n",
    "hex_chars = '0123456789ABCDEF'\n",
    "hexadecimal = \"\"\n",
    "if decimal == 0:\n",
    "    hexadecimal = '0'\n",
    "else:\n",
    "    \n",
    "    num_hex_digits = 0\n",
    "    temp_decimal = decimal\n",
    "    while temp_decimal > 0:\n",
    "        num_hex_digits += 1\n",
    "        temp_decimal = temp_decimal // 16\n",
    "\n",
    "   \n",
    "    for _ in range(num_hex_digits):\n",
    "        remainder = decimal % 16\n",
    "        hexadecimal = hex_chars[remainder] + hexadecimal\n",
    "        decimal = decimal // 16\n",
    "\n",
    "\n",
    "decimal = int(binary, 2)\n",
    "\n",
    "\n",
    "octal = \"\"\n",
    "if decimal == 0:\n",
    "    octal = '0'\n",
    "else:\n",
    "   \n",
    "    num_octal_digits = 0\n",
    "    temp_decimal = decimal\n",
    "    while temp_decimal > 0:\n",
    "        num_octal_digits += 1\n",
    "        temp_decimal = temp_decimal // 8\n",
    "\n",
    "   \n",
    "    for _ in range(num_octal_digits):\n",
    "        remainder = decimal % 8\n",
    "        octal = str(remainder) + octal\n",
    "        decimal = decimal // 8\n",
    "\n",
    "print(f\"Binary value of {val} is {binary}\")\n",
    "print(f\"Hexadecimal value of {val} is {hexadecimal}\")\n",
    "print(f\"Octal value of {val} is {octal}\")\n",
    "\n",
    "    "
   ]
  },
  {
   "cell_type": "code",
   "execution_count": null,
   "id": "e9c26d30-7d1f-43da-9978-8c31b9dd3fac",
   "metadata": {},
   "outputs": [],
   "source": []
  }
 ],
 "metadata": {
  "kernelspec": {
   "display_name": "Python 3 (ipykernel)",
   "language": "python",
   "name": "python3"
  },
  "language_info": {
   "codemirror_mode": {
    "name": "ipython",
    "version": 3
   },
   "file_extension": ".py",
   "mimetype": "text/x-python",
   "name": "python",
   "nbconvert_exporter": "python",
   "pygments_lexer": "ipython3",
   "version": "3.11.0"
  }
 },
 "nbformat": 4,
 "nbformat_minor": 5
}
